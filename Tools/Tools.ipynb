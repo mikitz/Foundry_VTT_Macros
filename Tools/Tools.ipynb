{
 "metadata": {
  "language_info": {
   "codemirror_mode": {
    "name": "ipython",
    "version": 3
   },
   "file_extension": ".py",
   "mimetype": "text/x-python",
   "name": "python",
   "nbconvert_exporter": "python",
   "pygments_lexer": "ipython3",
   "version": "3.8.3-final"
  },
  "orig_nbformat": 2,
  "kernelspec": {
   "name": "python3",
   "display_name": "Python 3",
   "language": "python"
  }
 },
 "nbformat": 4,
 "nbformat_minor": 2,
 "cells": [
  {
   "cell_type": "code",
   "execution_count": null,
   "metadata": {},
   "outputs": [],
   "source": [
    "import pandas as pd"
   ]
  },
  {
   "source": [
    "## String w/ Spaces to String w/ Underscores"
   ],
   "cell_type": "markdown",
   "metadata": {}
  },
  {
   "cell_type": "code",
   "execution_count": null,
   "metadata": {},
   "outputs": [],
   "source": [
    "blah = '\"pass check (5 or above dc)\"'\n",
    "blah = blah.replace(\" \", \"_\")\n",
    "print(blah)"
   ]
  },
  {
   "source": [
    "## List to JavaScript dropdown options"
   ],
   "cell_type": "markdown",
   "metadata": {}
  },
  {
   "cell_type": "code",
   "execution_count": null,
   "metadata": {},
   "outputs": [],
   "source": [
    "lList = ['1d4', '1d6', '1d8', '1d10', '1d12']"
   ]
  },
  {
   "cell_type": "code",
   "execution_count": null,
   "metadata": {},
   "outputs": [],
   "source": [
    "lOptions = []\n",
    "for i in lList:\n",
    "    oValue = i.lower()\n",
    "    oValue = oValue.replace(\" \", \"-\")\n",
    "    oFinal = '<option value=\"{}\">{}</option>'.format(oValue, i)\n",
    "    print(oFinal)"
   ]
  },
  {
   "source": [
    "## Change TXT tables to JSONs"
   ],
   "cell_type": "markdown",
   "metadata": {}
  },
  {
   "cell_type": "code",
   "execution_count": null,
   "metadata": {},
   "outputs": [],
   "source": [
    "import os\n",
    "# Define the path to scan for files\n",
    "mypath = r'C:\\Users\\mfitz\\Documents\\GitHub Clones\\Foundry_VTT_Macros\\Tables\\JSONs'\n",
    "# Function to rename multiple files\n",
    "def main():\n",
    "    for filename in os.listdir(mypath):\n",
    "        pre, ext = os.path.splitext(filename)\n",
    "        my_dest = pre + \".json\"\n",
    "        my_source = \"{}\\{}\".format(mypath, filename) \n",
    "        my_dest = \"{}\\{}\".format(mypath, my_dest) \n",
    "        os.rename(my_source, my_dest)\n",
    "# Driver Code\n",
    "if __name__ == '__main__':\n",
    "   # Calling main() function\n",
    "   main()"
   ]
  },
  {
   "cell_type": "code",
   "execution_count": null,
   "metadata": {},
   "outputs": [],
   "source": []
  }
 ]
}