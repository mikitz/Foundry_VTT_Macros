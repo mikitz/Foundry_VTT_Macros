{
 "metadata": {
  "language_info": {
   "codemirror_mode": {
    "name": "ipython",
    "version": 3
   },
   "file_extension": ".py",
   "mimetype": "text/x-python",
   "name": "python",
   "nbconvert_exporter": "python",
   "pygments_lexer": "ipython3",
   "version": "3.8.3-final"
  },
  "orig_nbformat": 2,
  "kernelspec": {
   "name": "python3",
   "display_name": "Python 3",
   "language": "python"
  }
 },
 "nbformat": 4,
 "nbformat_minor": 2,
 "cells": [
  {
   "source": [
    "## String w/ Spaces to String w/ Underscores"
   ],
   "cell_type": "markdown",
   "metadata": {}
  },
  {
   "cell_type": "code",
   "execution_count": null,
   "metadata": {},
   "outputs": [],
   "source": [
    "blah = '\"pass check (5 or above dc)\"'\n",
    "blah = blah.replace(\" \", \"_\")\n",
    "print(blah)"
   ]
  },
  {
   "source": [
    "## List to JavaScript dropdown options"
   ],
   "cell_type": "markdown",
   "metadata": {}
  },
  {
   "cell_type": "code",
   "execution_count": null,
   "metadata": {},
   "outputs": [],
   "source": [
    "lList = ['1d4', '1d6', '1d8', '1d10', '1d12']"
   ]
  },
  {
   "cell_type": "code",
   "execution_count": null,
   "metadata": {},
   "outputs": [],
   "source": [
    "lOptions = []\n",
    "for i in lList:\n",
    "    oValue = i.lower()\n",
    "    oValue = oValue.replace(\" \", \"-\")\n",
    "    oFinal = '<option value=\"{}\">{}</option>'.format(oValue, i)\n",
    "    print(oFinal)"
   ]
  },
  {
   "source": [
    "## Change TXT tables to JSONs"
   ],
   "cell_type": "markdown",
   "metadata": {}
  },
  {
   "cell_type": "code",
   "execution_count": null,
   "metadata": {},
   "outputs": [],
   "source": [
    "import os\n",
    "# Define the path to scan for files\n",
    "mypath = r'C:\\Users\\mfitz\\Documents\\GitHub Clones\\Foundry_VTT_Macros\\Tables\\JSONs'\n",
    "# Function to rename multiple files\n",
    "def main():\n",
    "    for filename in os.listdir(mypath):\n",
    "        pre, ext = os.path.splitext(filename)\n",
    "        my_dest = pre + \".json\"\n",
    "        my_source = \"{}\\{}\".format(mypath, filename) \n",
    "        my_dest = \"{}\\{}\".format(mypath, my_dest) \n",
    "        os.rename(my_source, my_dest)\n",
    "# Driver Code\n",
    "if __name__ == '__main__':\n",
    "   # Calling main() function\n",
    "   main()"
   ]
  },
  {
   "source": [
    "## Scrape a site to get Excel-readable JSONs"
   ],
   "cell_type": "markdown",
   "metadata": {}
  },
  {
   "cell_type": "code",
   "execution_count": null,
   "metadata": {},
   "outputs": [],
   "source": [
    "import time\n",
    "import random\n",
    "from selenium import webdriver\n",
    "from selenium.webdriver.common.keys import Keys\n",
    "# Define the path to scan for files\n",
    "vPath = r'C:\\Users\\mfitz\\Documents\\GitHub Clones\\Foundry_VTT_Macros\\Tables\\JSONs'\n",
    "# Define URL\n",
    "URL = 'https://konklone.io/json/'\n",
    "# Instantiate an Options object\n",
    "option = webdriver.ChromeOptions()\n",
    "#Remove navigator.webdriver flag\n",
    "option.add_argument('--disable-blink-features=AutomationControlled')\n",
    "# Change the resolution of the browser\n",
    "option.add_argument(\"window-size=810,1080\")\n",
    "# Adjusting the user agent\n",
    "option.add_argument(\"user-agent=Mozilla/5.0 (Windows NT 10.0; Win64; x64) AppleWebKit/537.36 (KHTML, like Gecko) Chrome/74.0.3729.169 Safari/537.36\")\n",
    "#Open Browser\n",
    "driver = webdriver.Chrome(executable_path='chromedriver.exe', options=option)\n",
    "# Loop through all the JSONs that we need to convert to CSVs\n",
    "for file in os.listdir(vPath):\n",
    "    # Open the specfied URL\n",
    "    driver.get(URL)\n",
    "    # Open the file\n",
    "    vFile = open(\"{}\\{}\".format(vPath, file), \"r\")\n",
    "    # Read the contents of the file\n",
    "    vTxt = vFile.read() \n",
    "    # Sleep to avoid errors\n",
    "    time.sleep(random.uniform(1.0, 2.0))\n",
    "    # Clear the code if there is any\n",
    "    # Clear the text field\n",
    "    vInput = driver.find_element_by_xpath('/html/body/section[1]/div[1]/textarea').click()\n",
    "    vInput = driver.find_element_by_xpath('/html/body/section[1]/div[1]/textarea').clear()\n",
    "    # Input the JSON into the text field\n",
    "    vInput = driver.find_element_by_xpath('/html/body/section[1]/div[1]/textarea').send_keys(vTxt)\n",
    "    # Sleep to avoid errors\n",
    "    time.sleep(random.uniform(1.0, 2.0))\n",
    "    # Click the download button to format the JSON in the input field\n",
    "    vDownload = driver.find_element_by_xpath('/html/body/section[2]/p/span[1]/a[1]').click()\n",
    "    # Sleep to avoid errors\n",
    "    time.sleep(random.uniform(0.5, 1.0))\n",
    "    # Download the CSV\n",
    "    vDownload = driver.find_element_by_xpath('/html/body/section[2]/p/span[1]/a[1]').click()"
   ]
  },
  {
   "cell_type": "code",
   "execution_count": null,
   "metadata": {},
   "outputs": [],
   "source": []
  }
 ]
}