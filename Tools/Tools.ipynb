{
 "metadata": {
  "language_info": {
   "codemirror_mode": {
    "name": "ipython",
    "version": 3
   },
   "file_extension": ".py",
   "mimetype": "text/x-python",
   "name": "python",
   "nbconvert_exporter": "python",
   "pygments_lexer": "ipython3",
   "version": "3.8.3-final"
  },
  "orig_nbformat": 2,
  "kernelspec": {
   "name": "python3",
   "display_name": "Python 3",
   "language": "python"
  }
 },
 "nbformat": 4,
 "nbformat_minor": 2,
 "cells": [
  {
   "cell_type": "code",
   "execution_count": 2,
   "metadata": {},
   "outputs": [],
   "source": [
    "import pandas as pd"
   ]
  },
  {
   "source": [
    "## String w/ Spaces to String w/ Underscores"
   ],
   "cell_type": "markdown",
   "metadata": {}
  },
  {
   "cell_type": "code",
   "execution_count": 1,
   "metadata": {},
   "outputs": [
    {
     "output_type": "stream",
     "name": "stdout",
     "text": [
      "\"pass_check_(5_or_above_dc)\"\n"
     ]
    }
   ],
   "source": [
    "blah = '\"pass check (5 or above dc)\"'\n",
    "blah = blah.replace(\" \", \"_\")\n",
    "print(blah)"
   ]
  },
  {
   "source": [
    "## List to JavaScript dropdown options"
   ],
   "cell_type": "markdown",
   "metadata": {}
  },
  {
   "cell_type": "code",
   "execution_count": 5,
   "metadata": {},
   "outputs": [],
   "source": [
    "lList = ['Common', 'Uncommon', 'Rare', 'Very Rare', 'Legendary']"
   ]
  },
  {
   "cell_type": "code",
   "execution_count": 6,
   "metadata": {},
   "outputs": [
    {
     "output_type": "stream",
     "name": "stdout",
     "text": [
      "<option value=\"reagants\">Reagants</option>\n<option value=\"cooking-ingredients\">Cooking Ingredients</option>\n<option value=\"wood\">Wood</option>\n"
     ]
    }
   ],
   "source": [
    "lOptions = []\n",
    "for i in lList:\n",
    "    oValue = i.lower()\n",
    "    oValue = oValue.replace(\" \", \"-\")\n",
    "    oFinal = '<option value=\"{}\">{}</option>'.format(oValue, i)\n",
    "    print(oFinal)"
   ]
  },
  {
   "cell_type": "code",
   "execution_count": null,
   "metadata": {},
   "outputs": [],
   "source": []
  }
 ]
}