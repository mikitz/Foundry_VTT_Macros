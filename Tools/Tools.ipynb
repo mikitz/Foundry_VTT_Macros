{
 "metadata": {
  "language_info": {
   "codemirror_mode": {
    "name": "ipython",
    "version": 3
   },
   "file_extension": ".py",
   "mimetype": "text/x-python",
   "name": "python",
   "nbconvert_exporter": "python",
   "pygments_lexer": "ipython3",
   "version": "3.8.3-final"
  },
  "orig_nbformat": 2,
  "kernelspec": {
   "name": "python3",
   "display_name": "Python 3",
   "language": "python"
  }
 },
 "nbformat": 4,
 "nbformat_minor": 2,
 "cells": [
  {
   "cell_type": "code",
   "execution_count": 2,
   "metadata": {},
   "outputs": [],
   "source": [
    "import pandas as pd"
   ]
  },
  {
   "source": [
    "## String w/ Spaces to String w/ Underscores"
   ],
   "cell_type": "markdown",
   "metadata": {}
  },
  {
   "cell_type": "code",
   "execution_count": 1,
   "metadata": {},
   "outputs": [
    {
     "output_type": "stream",
     "name": "stdout",
     "text": [
      "\"pass_check_(5_or_above_dc)\"\n"
     ]
    }
   ],
   "source": [
    "blah = '\"pass check (5 or above dc)\"'\n",
    "blah = blah.replace(\" \", \"_\")\n",
    "print(blah)"
   ]
  },
  {
   "source": [
    "## List to JavaScript dropdown options"
   ],
   "cell_type": "markdown",
   "metadata": {}
  },
  {
   "cell_type": "code",
   "execution_count": 1,
   "metadata": {},
   "outputs": [],
   "source": [
    "lList = ['1d4', '1d6', '1d8', '1d10', '1d12']"
   ]
  },
  {
   "cell_type": "code",
   "execution_count": 2,
   "metadata": {},
   "outputs": [
    {
     "output_type": "stream",
     "name": "stdout",
     "text": [
      "<option value=\"8-hours\">8 hours</option>\n<option value=\"16-hours\">16 hours</option>\n<option value=\"24-hours\">24 hours</option>\n"
     ]
    }
   ],
   "source": [
    "lOptions = []\n",
    "for i in lList:\n",
    "    oValue = i.lower()\n",
    "    oValue = oValue.replace(\" \", \"-\")\n",
    "    oFinal = '<option value=\"{}\">{}</option>'.format(oValue, i)\n",
    "    print(oFinal)"
   ]
  },
  {
   "cell_type": "code",
   "execution_count": null,
   "metadata": {},
   "outputs": [],
   "source": []
  }
 ]
}