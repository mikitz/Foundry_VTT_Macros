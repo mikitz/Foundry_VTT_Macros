{
 "metadata": {
  "language_info": {
   "codemirror_mode": {
    "name": "ipython",
    "version": 3
   },
   "file_extension": ".py",
   "mimetype": "text/x-python",
   "name": "python",
   "nbconvert_exporter": "python",
   "pygments_lexer": "ipython3",
   "version": "3.8.3-final"
  },
  "orig_nbformat": 2,
  "kernelspec": {
   "name": "python3",
   "display_name": "Python 3",
   "language": "python"
  }
 },
 "nbformat": 4,
 "nbformat_minor": 2,
 "cells": [
  {
   "source": [
    "## String w/ Spaces to String w/ Underscores"
   ],
   "cell_type": "markdown",
   "metadata": {}
  },
  {
   "cell_type": "code",
   "execution_count": 1,
   "metadata": {},
   "outputs": [
    {
     "output_type": "stream",
     "name": "stdout",
     "text": [
      "\"pass_check_(5_or_above_dc)\"\n"
     ]
    }
   ],
   "source": [
    "txt = '\"pass check (5 or above dc)\"'\n",
    "txt = txt.replace(\" \", \"_\")\n",
    "print(txt)"
   ]
  },
  {
   "source": [
    "## List/String to HTML Dropdown Options"
   ],
   "cell_type": "markdown",
   "metadata": {}
  },
  {
   "cell_type": "code",
   "execution_count": 42,
   "metadata": {},
   "outputs": [],
   "source": [
    "# List or String to HTML dropdown options\n",
    "def fLorStoHTMLdropdown(vObject):\n",
    "    if isinstance(vObject, str):\n",
    "        banana = vObject.replace(\" \", \"\")\n",
    "        lList = banana.split(\"\\n\")\n",
    "    else:\n",
    "        lList = vObject\n",
    "    # Loop through the items in the list and append the HTML    \n",
    "    for i in lList:\n",
    "        oValue = i.lower()\n",
    "        oValue = oValue.replace(\" \", \"-\")\n",
    "        oFinal = f'<option value=\"{oValue}\">{i}</option>'\n",
    "        print(oFinal)"
   ]
  },
  {
   "cell_type": "code",
   "execution_count": 77,
   "metadata": {},
   "outputs": [
    {
     "output_type": "stream",
     "name": "stdout",
     "text": [
      "<option value=\"copper\">Copper</option>\n<option value=\"silver\">Silver</option>\n<option value=\"electrum\">Electrum</option>\n<option value=\"gold\">Gold</option>\n<option value=\"platinum\">Platinum</option>\n"
     ]
    }
   ],
   "source": [
    "sString = \"\"\"Copper\n",
    "Silver\n",
    "Electrum\n",
    "Gold\n",
    "Platinum\"\"\"\n",
    "fLorStoHTMLdropdown(sString)"
   ]
  },
  {
   "cell_type": "code",
   "execution_count": 41,
   "metadata": {},
   "outputs": [
    {
     "output_type": "stream",
     "name": "stdout",
     "text": [
      "<option value=\"cantrip\">Cantrip</option>\n<option value=\"1st\">1st</option>\n<option value=\"2nd\">2nd</option>\n<option value=\"3rd\">3rd</option>\n<option value=\"4th\">4th</option>\n<option value=\"5th\">5th</option>\n<option value=\"6th\">6th</option>\n<option value=\"7th\">7th</option>\n<option value=\"8th\">8th</option>\n<option value=\"9th\">9th</option>\n"
     ]
    }
   ],
   "source": [
    "myList = ['Cantrip' ,'1st' ,'2nd' ,'3rd' ,'4th' ,'5th' ,'6th' ,'7th' ,'8th' ,'9th']\n",
    "fLorStoHTMLdropdown(myList)"
   ]
  },
  {
   "source": [
    "## List/String to JavaScript Dictionary"
   ],
   "cell_type": "markdown",
   "metadata": {}
  },
  {
   "cell_type": "code",
   "execution_count": 74,
   "metadata": {},
   "outputs": [],
   "source": [
    "def fStringtoJSdict(vObject):\n",
    "    if isinstance(vObject, str):\n",
    "        lList = vObject.split(\"\\n\")\n",
    "    else:\n",
    "        lList = vObject\n",
    "    for i, text in enumerate(lList):\n",
    "        if i > len(lList) - 2:\n",
    "            comma = \"\"\n",
    "        else:\n",
    "            comma = \",\"\n",
    "        if i == 0:\n",
    "            fBracket = \"{\\n\"\n",
    "        else:\n",
    "            fBracket = \"\"\n",
    "        if i == len(lList) - 1:\n",
    "            bBracket = \"\\n}\"\n",
    "        else:\n",
    "            bBracket = \"\"\n",
    "        print(f'{fBracket} {i+1}: \"{text}\"{comma} {bBracket}')"
   ]
  },
  {
   "cell_type": "code",
   "execution_count": 75,
   "metadata": {},
   "outputs": [
    {
     "output_type": "stream",
     "name": "stdout",
     "text": [
      "{\n 1: \"You bought up the last of the rare ink used to craft scrolls, angering a wizard in town.\", \n 2: \"The priest of a temple of good accuses you of trafficking in dark magic.*\", \n 3: \"A wizard eager to collect one of your spells in a book presses you to sell the scroll.\", \n 4: \"Due to a strange error in creating the scroll, it is instead a random spell of the same level.\", \n 5: \"The rare parchment you bought for your scroll has a barely visible map on it.\", \n 6: \"A thief attempts to break into your workroom.*\" \n}\n"
     ]
    }
   ],
   "source": [
    "myString = \"\"\"You bought up the last of the rare ink used to craft scrolls, angering a wizard in town.\n",
    "The priest of a temple of good accuses you of trafficking in dark magic.*\n",
    "A wizard eager to collect one of your spells in a book presses you to sell the scroll.\n",
    "Due to a strange error in creating the scroll, it is instead a random spell of the same level.\n",
    "The rare parchment you bought for your scroll has a barely visible map on it.\n",
    "A thief attempts to break into your workroom.*\"\"\"\n",
    "\n",
    "fStringtoJSdict(myString)"
   ]
  },
  {
   "source": [
    "## Change TXT tables to JSONs"
   ],
   "cell_type": "markdown",
   "metadata": {}
  },
  {
   "cell_type": "code",
   "execution_count": null,
   "metadata": {},
   "outputs": [],
   "source": [
    "import os\n",
    "# Define the path to scan for files\n",
    "mypath = r'C:\\Users\\mfitz\\Documents\\GitHub Clones\\Foundry_VTT_Macros\\Tables\\JSONs'\n",
    "# Function to rename multiple files\n",
    "def main():\n",
    "    for filename in os.listdir(mypath):\n",
    "        pre, ext = os.path.splitext(filename)\n",
    "        my_dest = pre + \".json\"\n",
    "        my_source = \"{}\\{}\".format(mypath, filename) \n",
    "        my_dest = \"{}\\{}\".format(mypath, my_dest) \n",
    "        os.rename(my_source, my_dest)\n",
    "# Driver Code\n",
    "if __name__ == '__main__':\n",
    "   # Calling main() function\n",
    "   main()"
   ]
  },
  {
   "source": [
    "## Convert JSONs to CSVs"
   ],
   "cell_type": "markdown",
   "metadata": {}
  },
  {
   "cell_type": "code",
   "execution_count": 41,
   "metadata": {},
   "outputs": [],
   "source": [
    "# Define the path to scan for files\n",
    "mypath = r'C:\\Users\\mfitz\\Documents\\GitHub Clones\\Foundry_VTT_Macros\\Tables\\JSONs'\n",
    "# Python program to convert\n",
    "# JSON file to CSV \n",
    "import json \n",
    "import csv\n",
    "import pandas as pd\n",
    "for file in os.listdir(mypath):\n",
    "    # Extract the name and file type from the file\n",
    "    vName, vExt = os.path.splitext('{}\\{}'.format(mypath, file))\n",
    "    # Opening JSON file and loading the data\n",
    "    # into the variable data \n",
    "    try:\n",
    "        with open('{}\\{}'.format(mypath, file)) as json_file: \n",
    "            data = json.load(json_file) \n",
    "    except Exception:\n",
    "        pass\n",
    "    employee_data = data['results'] \n",
    "    \n",
    "    # now we will open a file for writing \n",
    "    data_file = open('{}.csv'.format(vName), 'w') \n",
    "    \n",
    "    # create the csv writer object \n",
    "    csv_writer = csv.writer(data_file) \n",
    "\n",
    "    # Counter variable used for writing  \n",
    "    # headers to the CSV file \n",
    "    count = 0\n",
    "    \n",
    "    for emp in employee_data: \n",
    "        if count == 0: \n",
    "    \n",
    "            # Writing headers of CSV file \n",
    "            header = emp.keys() \n",
    "            csv_writer.writerow(header) \n",
    "            count += 1\n",
    "    \n",
    "        # Writing data of CSV file \n",
    "        csv_writer.writerow(emp.values()) \n",
    "    \n",
    "    data_file.close()\n",
    "    # Read the CSV into a DataFrame\n",
    "    try:\n",
    "        df = pd.read_csv(r'{}.csv'.format(vName))\n",
    "        # Write the Dataframe to a new CSV, thus dropping blank rows\n",
    "        df.to_csv('{}.csv'.format(vName), index_label = False)\n",
    "    except Exception:\n",
    "        pass"
   ]
  },
  {
   "source": [
    "## Convert the CSVs into JavaScript object arrays"
   ],
   "cell_type": "markdown",
   "metadata": {}
  },
  {
   "cell_type": "code",
   "execution_count": 6,
   "metadata": {},
   "outputs": [],
   "source": [
    "import pandas as pd\n",
    "oPath = r'C:\\Users\\Me\\Documents\\GitHub Clones\\Foundry_VTT_Macros\\Tables\\JSONs\\CSVs'\n",
    "df = pd.read_csv(r'{}\\(Blue Hole) Contents.csv'.format(oPath), header = 0)"
   ]
  },
  {
   "cell_type": "code",
   "execution_count": 48,
   "metadata": {},
   "outputs": [
    {
     "output_type": "stream",
     "name": "stdout",
     "text": [
      "[\n\t{id: \"0\", text: \"<h2>BLUE HOLE</h2> <p><b>Dimensions</b></p> <p>Diameter: [[1d10 * 100]]</p> <p>Depth: [[1d10 * 100]]</p> <p><b>Bluehole Contents</b></p> <p>[[2d10]] sahuagin</p>\"},\n\t{id: \"1\", text: \"<h2>BLUE HOLE</h2> <p><b>Dimensions</b></p> <p>Diameter: [[1d10 * 100]]</p> <p>Depth: [[1d10 * 100]]</p> <p><b>Bluehole Contents</b></p> <p>1 giant octopus</p>\"},\n\t{id: \"2\", text: \"<h2>BLUE HOLE</h2> <p><b>Dimensions</b></p> <p>Diameter: [[1d10 * 100]]</p> <p>Depth: [[1d10 * 100]]</p> <p><b>Bluehole Contents</b></p> <p>[[1d4 + 1]] chuuls</p>\"},\n\t{id: \"3\", text: \"<h2>BLUE HOLE</h2> <p><b>Dimensions</b></p> <p>Diameter: [[1d10 * 100]]</p> <p>Depth: [[1d10 * 100]]</p> <p><b>Bluehole Contents</b></p> <p>1 sea hag and [[2d4]] merrow</p>\"},\n\t{id: \"4\", text: \"<h2>BLUE HOLE</h2> <p><b>Dimensions</b></p> <p>Diameter: [[1d10 * 100]]</p> <p>Depth: [[1d10 * 100]]</p> <p><b>Bluehole Contents</b></p> <p>1 plesiosaurus</p>\"},\n\t{id: \"5\", text: \"<h2>BLUE HOLE</h2> <p><b>Dimensions</b></p> <p>Diameter: [[1d10 * 100]]</p> <p>Depth: [[1d10 * 100]]</p> <p><b>Bluehole Contents</b></p> <p>[[1d4]] swarms of quippers</p>\"},\n\t{id: \"6\", text: \"<h2>BLUE HOLE</h2> <p><b>Dimensions</b></p> <p>Diameter: [[1d10 * 100]]</p> <p>Depth: [[1d10 * 100]]</p> <p><b>Bluehole Contents</b></p> <p>[[2d4]] reef sharks</p>\"},\n\t{id: \"7\", text: \"<h2>BLUE HOLE</h2> <p><b>Dimensions</b></p> <p>Diameter: [[1d10 * 100]]</p> <p>Depth: [[1d10 * 100]]</p> <p><b>Bluehole Contents</b></p> <p>1 giant shark</p>\"},\n\t{id: \"8\", text: \"<h2>BLUE HOLE</h2> <p><b>Dimensions</b></p> <p>Diameter: [[1d10 * 100]]</p> <p>Depth: [[1d10 * 100]]</p> <p><b>Bluehole Contents</b></p> <p>[[1d6]] items from Magic Item Table A in chapter 7, Treasure, of the Dungeon Master's Guide</p>\"},\n\t{id: \"9\", text: \"<h2>BLUE HOLE</h2> <p><b>Dimensions</b></p> <p>Diameter: [[1d10 * 100]]</p> <p>Depth: [[1d10 * 100]]</p> <p><b>Bluehole Contents</b></p> <p>Treasure rolled on the Treasure Hoard: Challenge 0–4 table in chapter 7, Treasure, of the Dungeon Master's Guide</p>\"},\n]\n"
     ]
    }
   ],
   "source": [
    "lTable = []\n",
    "vCount = 0\n",
    "oFinalString = ''\n",
    "for index, row in df.iterrows():\n",
    "    cID = vCount\n",
    "    cText = str(df[\"text\"][index]).replace('\"', '')\n",
    "    oString = \"\\t{\" + \"id: \" + '\"' + \"{}\".format(cID) + '\"' + \", \" + \"text: \" + '\"' + \"{}\".format(cText) + '\"' + \"},\\n\"\n",
    "    #lTable.append(oString)\n",
    "    oFinalString += oString\n",
    "    vCount += 1\n",
    "print(\"[\\n\" + oFinalString + \"]\")"
   ]
  },
  {
   "cell_type": "code",
   "execution_count": null,
   "metadata": {},
   "outputs": [],
   "source": []
  }
 ]
}