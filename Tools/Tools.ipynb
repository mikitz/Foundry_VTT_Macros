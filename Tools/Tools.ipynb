{
 "metadata": {
  "language_info": {
   "codemirror_mode": {
    "name": "ipython",
    "version": 3
   },
   "file_extension": ".py",
   "mimetype": "text/x-python",
   "name": "python",
   "nbconvert_exporter": "python",
   "pygments_lexer": "ipython3",
   "version": "3.8.3-final"
  },
  "orig_nbformat": 2,
  "kernelspec": {
   "name": "python3",
   "display_name": "Python 3",
   "language": "python"
  }
 },
 "nbformat": 4,
 "nbformat_minor": 2,
 "cells": [
  {
   "cell_type": "code",
   "execution_count": 2,
   "metadata": {},
   "outputs": [],
   "source": [
    "import pandas as pd"
   ]
  },
  {
   "source": [
    "## String w/ Spaces to String w/ Underscores"
   ],
   "cell_type": "markdown",
   "metadata": {}
  },
  {
   "cell_type": "code",
   "execution_count": 1,
   "metadata": {},
   "outputs": [
    {
     "output_type": "stream",
     "name": "stdout",
     "text": [
      "\"pass_check_(5_or_above_dc)\"\n"
     ]
    }
   ],
   "source": [
    "blah = '\"pass check (5 or above dc)\"'\n",
    "blah = blah.replace(\" \", \"_\")\n",
    "print(blah)"
   ]
  },
  {
   "source": [
    "## List to JavaScript dropdown options"
   ],
   "cell_type": "markdown",
   "metadata": {}
  },
  {
   "cell_type": "code",
   "execution_count": 3,
   "metadata": {},
   "outputs": [],
   "source": [
    "lList = ['Bath Salts', 'Cocaine', 'Ecstasy', 'Flakka', 'Heroin', 'Krokodil', 'LSD', 'Marijuana', 'Methamphetamimes', 'Mushrooms', 'Salvia', 'Spice', 'Dragon Tears', 'Celestial Blood', 'Aberration', 'Construct', 'Dragon', 'Elemental', 'Fey', 'Fiend', 'Giant', 'Monstrosity', 'Ooze', 'Undead']"
   ]
  },
  {
   "cell_type": "code",
   "execution_count": 4,
   "metadata": {},
   "outputs": [
    {
     "output_type": "stream",
     "name": "stdout",
     "text": [
      "<option value=\"bath-salts\">Bath Salts</option>\n<option value=\"cocaine\">Cocaine</option>\n<option value=\"ecstasy\">Ecstasy</option>\n<option value=\"flakka\">Flakka</option>\n<option value=\"heroin\">Heroin</option>\n<option value=\"krokodil\">Krokodil</option>\n<option value=\"lsd\">LSD</option>\n<option value=\"marijuana\">Marijuana</option>\n<option value=\"methamphetamimes\">Methamphetamimes</option>\n<option value=\"mushrooms\">Mushrooms</option>\n<option value=\"salvia\">Salvia</option>\n<option value=\"spice\">Spice</option>\n<option value=\"dragon-tears\">Dragon Tears</option>\n<option value=\"celestial-blood\">Celestial Blood</option>\n<option value=\"aberration\">Aberration</option>\n<option value=\"construct\">Construct</option>\n<option value=\"dragon\">Dragon</option>\n<option value=\"elemental\">Elemental</option>\n<option value=\"fey\">Fey</option>\n<option value=\"fiend\">Fiend</option>\n<option value=\"giant\">Giant</option>\n<option value=\"monstrosity\">Monstrosity</option>\n<option value=\"ooze\">Ooze</option>\n<option value=\"undead\">Undead</option>\n"
     ]
    }
   ],
   "source": [
    "lOptions = []\n",
    "for i in lList:\n",
    "    oValue = i.lower()\n",
    "    oValue = oValue.replace(\" \", \"-\")\n",
    "    oFinal = '<option value=\"{}\">{}</option>'.format(oValue, i)\n",
    "    print(oFinal)"
   ]
  },
  {
   "cell_type": "code",
   "execution_count": null,
   "metadata": {},
   "outputs": [],
   "source": []
  }
 ]
}